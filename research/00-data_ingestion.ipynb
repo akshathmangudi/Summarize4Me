{
 "cells": [
  {
   "cell_type": "code",
   "execution_count": 26,
   "metadata": {
    "collapsed": true,
    "ExecuteTime": {
     "end_time": "2023-06-05T16:55:02.326530622Z",
     "start_time": "2023-06-05T16:55:02.308890878Z"
    }
   },
   "outputs": [],
   "source": [
    "import os"
   ]
  },
  {
   "cell_type": "code",
   "execution_count": 27,
   "outputs": [
    {
     "data": {
      "text/plain": "'/home/Akshath/PycharmProjects/Summarize4Me'"
     },
     "execution_count": 27,
     "metadata": {},
     "output_type": "execute_result"
    }
   ],
   "source": [
    "# Changing to root directory.\n",
    "abs_path = '/home/Akshath/PycharmProjects/Summarize4Me'\n",
    "os.chdir(abs_path)\n",
    "%pwd"
   ],
   "metadata": {
    "collapsed": false,
    "ExecuteTime": {
     "end_time": "2023-06-05T16:55:02.997581560Z",
     "start_time": "2023-06-05T16:55:02.990433426Z"
    }
   }
  },
  {
   "cell_type": "code",
   "execution_count": 28,
   "outputs": [],
   "source": [
    "from dataclasses import dataclass\n",
    "from pathlib import Path\n",
    "\n",
    "@dataclass(frozen=True)\n",
    "class DataIngestionConfig:\n",
    "     root_dir: Path\n",
    "     source_url: str\n",
    "     local_data_file: Path\n",
    "     unzip_dir: Path\n"
   ],
   "metadata": {
    "collapsed": false,
    "ExecuteTime": {
     "end_time": "2023-06-05T16:55:03.992807610Z",
     "start_time": "2023-06-05T16:55:03.981606541Z"
    }
   }
  },
  {
   "cell_type": "code",
   "execution_count": 29,
   "outputs": [],
   "source": [
    "from Summarize4Me.constants import *\n",
    "from Summarize4Me.utils.common import read_yaml, create_dirs"
   ],
   "metadata": {
    "collapsed": false,
    "ExecuteTime": {
     "end_time": "2023-06-05T16:55:04.979620992Z",
     "start_time": "2023-06-05T16:55:04.973314498Z"
    }
   }
  },
  {
   "cell_type": "code",
   "execution_count": 30,
   "outputs": [],
   "source": [
    "class ConfigManager:\n",
    "     def __init__(\n",
    "             self,\n",
    "             config_fpath = CONFIG_FILE_PATH,\n",
    "             params_fpath = PARAMS_FILE_PATH\n",
    "     ):\n",
    "          self.config = read_yaml(config_fpath)\n",
    "          self.params = read_yaml(params_fpath)\n",
    "\n",
    "          create_dirs([self.config.artifacts_root])\n",
    "\n",
    "     def get_ingestion(self) -> DataIngestionConfig:\n",
    "          config = self.config.data_ingestion\n",
    "\n",
    "          create_dirs([config.root_dir])\n",
    "\n",
    "          data_ingestion = DataIngestionConfig(\n",
    "               root_dir=config.root_dir,\n",
    "               source_url=config.source_url,\n",
    "               local_data_file=config.local_data_file,\n",
    "               unzip_dir=config.unzip_dir\n",
    "          )\n",
    "\n",
    "          return data_ingestion"
   ],
   "metadata": {
    "collapsed": false,
    "ExecuteTime": {
     "end_time": "2023-06-05T16:55:05.853970880Z",
     "start_time": "2023-06-05T16:55:05.847809960Z"
    }
   }
  },
  {
   "cell_type": "code",
   "execution_count": 31,
   "outputs": [],
   "source": [
    "import os\n",
    "import urllib.request as request\n",
    "import zipfile\n",
    "\n",
    "from Summarize4Me.logging import logger\n",
    "from Summarize4Me.utils.common import get_size"
   ],
   "metadata": {
    "collapsed": false,
    "ExecuteTime": {
     "end_time": "2023-06-05T16:55:07.002155892Z",
     "start_time": "2023-06-05T16:55:06.994000199Z"
    }
   }
  },
  {
   "cell_type": "code",
   "execution_count": 32,
   "outputs": [],
   "source": [
    "class DataIngestion:\n",
    "     def __init__(self, config: DataIngestionConfig):\n",
    "          self.config = config\n",
    "\n",
    "     def download_file(self):\n",
    "          if not os.path.exists(self.config.local_data_file):\n",
    "               filename, headers = request.urlretrieve(\n",
    "                    url=self.config.source_url,\n",
    "                    filename=self.config.local_data_file\n",
    "               )\n",
    "               logger.info(f\"{filename} download with following \\n{headers}\")\n",
    "          else:\n",
    "               logger.info(f\"File already exists of size: {get_size(Path(self.config.local_data_file))}\")\n",
    "\n",
    "\n",
    "     def extract_zip(self):\n",
    "          unzip_path=self.config.unzip_dir\n",
    "          os.makedirs(unzip_path, exist_ok=True)\n",
    "          with zipfile.ZipFile(self.config.local_data_file, 'r') as zip_ref:\n",
    "               zip_ref.extractall(unzip_path)\n"
   ],
   "metadata": {
    "collapsed": false,
    "ExecuteTime": {
     "end_time": "2023-06-05T16:55:07.695605132Z",
     "start_time": "2023-06-05T16:55:07.688821487Z"
    }
   }
  },
  {
   "cell_type": "code",
   "execution_count": 34,
   "outputs": [
    {
     "name": "stdout",
     "output_type": "stream",
     "text": [
      "[2023-06-05 22:25:26,172: INFO: common: YAML File: config/config.yaml loaded]\n",
      "[2023-06-05 22:25:26,175: INFO: common: YAML File: params.yaml loaded]\n",
      "[2023-06-05 22:25:26,176: INFO: common: Created dir at: artifacts]\n",
      "[2023-06-05 22:25:26,177: INFO: common: Created dir at: artifacts/data_ingestion]\n",
      "[2023-06-05 22:30:33,175: INFO: 1428535947: artifacts/data_ingestion/data.zip download with following \n",
      "Connection: close\n",
      "Content-Length: 7903594\n",
      "Cache-Control: max-age=300\n",
      "Content-Security-Policy: default-src 'none'; style-src 'unsafe-inline'; sandbox\n",
      "Content-Type: application/zip\n",
      "ETag: \"dbc016a060da18070593b83afff580c9b300f0b6ea4147a7988433e04df246ca\"\n",
      "Strict-Transport-Security: max-age=31536000\n",
      "X-Content-Type-Options: nosniff\n",
      "X-Frame-Options: deny\n",
      "X-XSS-Protection: 1; mode=block\n",
      "X-GitHub-Request-Id: 9BB6:25B2:118EDFA:1528BC0:647E137F\n",
      "Accept-Ranges: bytes\n",
      "Date: Mon, 05 Jun 2023 16:55:28 GMT\n",
      "Via: 1.1 varnish\n",
      "X-Served-By: cache-maa10238-MAA\n",
      "X-Cache: MISS\n",
      "X-Cache-Hits: 0\n",
      "X-Timer: S1685984127.940372,VS0,VE1582\n",
      "Vary: Authorization,Accept-Encoding,Origin\n",
      "Access-Control-Allow-Origin: *\n",
      "X-Fastly-Request-ID: 55f1fe691f90a05348fd7f089f4ebd1d57ac6dd7\n",
      "Expires: Mon, 05 Jun 2023 17:00:28 GMT\n",
      "Source-Age: 1\n",
      "\n",
      "]\n"
     ]
    }
   ],
   "source": [
    "try:\n",
    "     config = ConfigManager()\n",
    "     data_ingestion_config = config.get_ingestion()\n",
    "     data_ingestion = DataIngestion(config=data_ingestion_config)\n",
    "     data_ingestion.download_file()\n",
    "     data_ingestion.extract_zip()\n",
    "except Exception as e:\n",
    "     raise e"
   ],
   "metadata": {
    "collapsed": false,
    "ExecuteTime": {
     "end_time": "2023-06-05T17:00:33.309292744Z",
     "start_time": "2023-06-05T16:55:26.174143843Z"
    }
   }
  }
 ],
 "metadata": {
  "kernelspec": {
   "display_name": "Python 3",
   "language": "python",
   "name": "python3"
  },
  "language_info": {
   "codemirror_mode": {
    "name": "ipython",
    "version": 2
   },
   "file_extension": ".py",
   "mimetype": "text/x-python",
   "name": "python",
   "nbconvert_exporter": "python",
   "pygments_lexer": "ipython2",
   "version": "2.7.6"
  }
 },
 "nbformat": 4,
 "nbformat_minor": 0
}
