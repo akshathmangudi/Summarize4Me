{
 "cells": [
  {
   "cell_type": "code",
   "execution_count": 2,
   "metadata": {
    "collapsed": true,
    "ExecuteTime": {
     "end_time": "2023-06-06T03:55:43.471396309Z",
     "start_time": "2023-06-06T03:55:43.410373495Z"
    }
   },
   "outputs": [],
   "source": [
    "import os"
   ]
  },
  {
   "cell_type": "code",
   "execution_count": 3,
   "outputs": [
    {
     "data": {
      "text/plain": "'/home/Akshath/PycharmProjects/Summarize4Me'"
     },
     "execution_count": 3,
     "metadata": {},
     "output_type": "execute_result"
    }
   ],
   "source": [
    "abs_path = '/home/Akshath/PycharmProjects/Summarize4Me'\n",
    "os.chdir(abs_path)\n",
    "%pwd"
   ],
   "metadata": {
    "collapsed": false,
    "ExecuteTime": {
     "end_time": "2023-06-06T03:55:45.692423566Z",
     "start_time": "2023-06-06T03:55:45.666248174Z"
    }
   }
  },
  {
   "cell_type": "code",
   "execution_count": 4,
   "outputs": [],
   "source": [
    "from dataclasses import dataclass\n",
    "from pathlib import Path\n",
    "\n",
    "@dataclass(frozen=True)\n",
    "class DataValidationConfig:\n",
    "    root_dir: Path\n",
    "    status_file: str\n",
    "    required_files: list"
   ],
   "metadata": {
    "collapsed": false,
    "ExecuteTime": {
     "end_time": "2023-06-06T03:58:55.162610566Z",
     "start_time": "2023-06-06T03:58:55.130075873Z"
    }
   }
  },
  {
   "cell_type": "code",
   "execution_count": 5,
   "outputs": [],
   "source": [
    "from Summarize4Me.constants import *\n",
    "from Summarize4Me.utils.common import read_yaml, create_dirs"
   ],
   "metadata": {
    "collapsed": false,
    "ExecuteTime": {
     "end_time": "2023-06-06T03:59:20.419510530Z",
     "start_time": "2023-06-06T03:59:20.383351289Z"
    }
   }
  },
  {
   "cell_type": "code",
   "execution_count": 6,
   "outputs": [],
   "source": [
    "class ConfigManager:\n",
    "    def __init__(\n",
    "        self,\n",
    "        config_fpath = CONFIG_FILE_PATH,\n",
    "        params_fpath = PARAMS_FILE_PATH\n",
    "    ):\n",
    "\n",
    "        self.config = read_yaml(config_fpath)\n",
    "        self.params = read_yaml(params_fpath)\n",
    "\n",
    "        create_dirs([self.config.artifacts_root])\n",
    "\n",
    "    def get_validation(self) -> DataValidationConfig:\n",
    "        config = self.config.data_validation\n",
    "\n",
    "        create_dirs([config.root_dir])\n",
    "\n",
    "        data_validation_string = DataValidationConfig(\n",
    "            root_dir=config.root_dir,\n",
    "            status_file=config.status_file,\n",
    "            required_files=config.required_files\n",
    "        )\n",
    "\n",
    "        return data_validation_string"
   ],
   "metadata": {
    "collapsed": false,
    "ExecuteTime": {
     "end_time": "2023-06-06T04:01:46.209743196Z",
     "start_time": "2023-06-06T04:01:46.167907891Z"
    }
   }
  },
  {
   "cell_type": "code",
   "execution_count": 11,
   "outputs": [],
   "source": [
    "import os\n",
    "from Summarize4Me.logging import logger\n",
    "\n",
    "class DataValidation:\n",
    "    def __init__(self, config: DataValidationConfig):\n",
    "        self.config=config\n",
    "\n",
    "    def validate_existence(self)-> bool:\n",
    "        try:\n",
    "            val_status = None\n",
    "            all_files = os.listdir(os.path.join(\"artifacts\", \"data_ingestion\", \"samsum_dataset\"))\n",
    "\n",
    "            for file in all_files:\n",
    "                if file not in self.config.required_files:\n",
    "                    val_status = False\n",
    "                    with open(self.config.status_file, 'w') as f:\n",
    "                        f.write(f\"Validation status: {val_status}\")\n",
    "                else:\n",
    "                    val_status = True\n",
    "                    with open(self.config.status_file, 'w') as f:\n",
    "                        f.write(f\"Validation status: {val_status}\")\n",
    "            return val_status\n",
    "        except Exception as e:\n",
    "            raise e\n"
   ],
   "metadata": {
    "collapsed": false,
    "ExecuteTime": {
     "end_time": "2023-06-06T04:09:27.721171902Z",
     "start_time": "2023-06-06T04:09:27.711506845Z"
    }
   }
  },
  {
   "cell_type": "code",
   "execution_count": 12,
   "outputs": [
    {
     "name": "stdout",
     "output_type": "stream",
     "text": [
      "[2023-06-06 09:39:28,493: INFO: common: YAML File: config/config.yaml loaded]\n",
      "[2023-06-06 09:39:28,495: INFO: common: YAML File: params.yaml loaded]\n",
      "[2023-06-06 09:39:28,497: INFO: common: Created dir at: artifacts]\n",
      "[2023-06-06 09:39:28,498: INFO: common: Created dir at: artifacts/data_validation]\n"
     ]
    }
   ],
   "source": [
    "try:\n",
    "    config = ConfigManager()\n",
    "    data_validation_config = config.get_validation()\n",
    "    data_validation = DataValidation(config=data_validation_config)\n",
    "    data_validation.validate_existence()\n",
    "except Exception as e:\n",
    "    raise e"
   ],
   "metadata": {
    "collapsed": false,
    "ExecuteTime": {
     "end_time": "2023-06-06T04:09:28.507602424Z",
     "start_time": "2023-06-06T04:09:28.492910404Z"
    }
   }
  },
  {
   "cell_type": "code",
   "execution_count": null,
   "outputs": [],
   "source": [],
   "metadata": {
    "collapsed": false
   }
  }
 ],
 "metadata": {
  "kernelspec": {
   "display_name": "Python 3",
   "language": "python",
   "name": "python3"
  },
  "language_info": {
   "codemirror_mode": {
    "name": "ipython",
    "version": 2
   },
   "file_extension": ".py",
   "mimetype": "text/x-python",
   "name": "python",
   "nbconvert_exporter": "python",
   "pygments_lexer": "ipython2",
   "version": "2.7.6"
  }
 },
 "nbformat": 4,
 "nbformat_minor": 0
}
